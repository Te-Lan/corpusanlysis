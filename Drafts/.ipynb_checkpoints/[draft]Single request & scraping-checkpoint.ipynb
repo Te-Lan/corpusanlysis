{
 "cells": [
  {
   "cell_type": "code",
   "execution_count": null,
   "id": "4484c245-f9f6-497a-92f0-0c4091707d38",
   "metadata": {},
   "outputs": [],
   "source": [
    "# First make sure we got pkgs we need\n",
    "#!pip install bs4\n",
    "#!pip install numpy"
   ]
  },
  {
   "cell_type": "code",
   "execution_count": 1,
   "id": "b51eb7c2-a34e-4803-a8e6-ea4be2b7721d",
   "metadata": {},
   "outputs": [],
   "source": [
    "#Import all pkg we are going to use\n",
    "import ssl\n",
    "import os\n",
    "import re\n",
    "from urllib.error import HTTPError, URLError\n",
    "from urllib.parse import quote\n",
    "from urllib.request import Request, urlopen, ProxyHandler, build_opener, install_opener, HTTPHandler\n",
    "\n",
    "from bs4 import BeautifulSoup\n",
    "from numpy import random"
   ]
  },
  {
   "cell_type": "markdown",
   "id": "4723331d-bc74-4820-9481-c07b74c61369",
   "metadata": {},
   "source": [
    "Code referenced from Github"
   ]
  },
  {
   "cell_type": "code",
   "execution_count": 2,
   "id": "e492e482-1778-4f11-9110-0d86a13057ab",
   "metadata": {},
   "outputs": [],
   "source": [
    "#Creating User Agents as Header when request a webpage\n",
    "USER_AGENTS = [\n",
    "    {'User-Agent': 'Mozilla/5.0 (Windows; U; Windows NT 6.1; en-US; rv:1.9.1.6) Gecko/20091201 Firefox/3.5.6'},\n",
    "    {'User-Agent': 'Mozilla/5.0 (Windows NT 6.2) AppleWebKit/535.11 (KHTML, like Gecko) Chrome/17.0.963.12 Safari/535.11'},\n",
    "    {'User-Agent': 'Mozilla/5.0 (compatible; MSIE 10.0; Windows NT 6.2; Trident/6.0)'},\n",
    "    {'User-Agent': 'Mozilla/5.0 (Macintosh; Intel Mac OS X 10.15; rv:73.0) Gecko/20100101 Firefox/73.0'},\n",
    "    {'User-Agent': 'Mozilla/5.0 (Macintosh; Intel Mac OS X 10_15_4) AppleWebKit/605.1.15 (KHTML, like Gecko) Version/13.1 Safari/605.1.15'},\n",
    "    {'User-Agent': 'Mozilla/5.0 (Windows NT 6.1; WOW64; rv:23.0) Gecko/20100101 Firefox/23.0'},\n",
    "    {'User-Agent': 'Mozilla/5.0 (Windows NT 6.3; WOW64) AppleWebKit/537.36 (KHTML, like Gecko) Chrome/39.0.2171.95 Safari/537.36'},\n",
    "    {'User-Agent': 'Mozilla/5.0 (Macintosh; Intel Mac OS X 10_9_2) AppleWebKit/537.36 (KHTML, like Gecko) Chrome/35.0.1916.153 Safari/537.36'},\n",
    "    {'User-Agent': 'Mozilla/5.0 (Windows NT 6.1; WOW64; rv:30.0) Gecko/20100101 Firefox/30.0'},\n",
    "    {'User-Agent': 'Mozilla/5.0 (compatible; MSIE 10.0; Windows NT 6.2; Win64; x64; Trident/6.0)'},\n",
    "    {'User-Agent': 'Mozilla/4.0 (compatible; MSIE 6.0; Windows NT 5.1; SV1; .NET CLR 1.1.4322; .NET CLR 2.0.50727)'},\n",
    "    {'User-Agent': 'Mozilla/5.0 (compatible; Konqueror/3.5; Linux) KHTML/3.5.5 (like Gecko) (Kubuntu)'},\n",
    "    {'User-Agent': 'Mozilla/5.0 (X11; U; Linux i686; en-US; rv:1.8.0.12) Gecko/20070731 Ubuntu/dapper-security Firefox/1.5.0.12'},\n",
    "    {'User-Agent': 'Mozilla/5.0 (X11; Linux i686) AppleWebKit/535.7 (KHTML, like Gecko) Ubuntu/11.04 Chromium/16.0.912.77 Chrome/16.0.912.77 Safari/535.7'},\n",
    "    {'User-Agent': 'Mozilla/5.0 (X11; Ubuntu; Linux i686; rv:10.0) Gecko/20100101 Firefox/10.0'},\n",
    "    {'User-Agent': 'Mozilla/5.0 (Macintosh; Intel Mac OS X 10_15_4) AppleWebKit/537.36 (KHTML, like Gecko) Chrome/78.0.3904.97 Safari/537.36'}]\n",
    "\n",
    "#Using proxy in case there's limitation for single computer\n",
    "PROXY_IPS = []\n",
    "\n",
    "#Setting the url format\n",
    "# 豆瓣读书预设标签列表\n",
    "# book_url='http://www.douban.com/tag/%E5%B0%8F%E8%AF%B4/book?start=0'\n",
    "# 单页15本书，start值为书的行数偏移量\n",
    "url = 'https://www.douban.com/group/topic/247144799/#7321023VXaedxc'\n",
    "\n",
    "#Make the header randomly\n",
    "headers = random.choice(USER_AGENTS)\n",
    "\n",
    "#request and transfer into plain text for bs4 process\n",
    "req = Request(url, headers=headers)\n",
    "source_code = urlopen(req).read()\n",
    "plain_text = str(source_code, 'utf-8')"
   ]
  },
  {
   "cell_type": "markdown",
   "id": "26fede4e-7604-40cf-95c2-515f63e94fec",
   "metadata": {},
   "source": [
    "Soup Filter, Code by myself"
   ]
  },
  {
   "cell_type": "code",
   "execution_count": 4,
   "id": "02a291c0-e900-45b2-b4c5-6102622661da",
   "metadata": {},
   "outputs": [],
   "source": [
    "# parse into \n",
    "soup = BeautifulSoup(plain_text,\"html.parser\")"
   ]
  },
  {
   "cell_type": "code",
   "execution_count": 58,
   "id": "9369a02e-bfb3-4487-9674-f42b25323a79",
   "metadata": {},
   "outputs": [
    {
     "data": {
      "text/plain": [
       "'\\n        我经常被pua怎么办啊\\n'"
      ]
     },
     "execution_count": 58,
     "metadata": {},
     "output_type": "execute_result"
    }
   ],
   "source": [
    "# get post title\n",
    "post_title = soup.find(\"title\")\n",
    "post_title.text"
   ]
  },
  {
   "cell_type": "code",
   "execution_count": 57,
   "id": "83e54ac5-779c-4458-90db-d6b2314941c9",
   "metadata": {},
   "outputs": [
    {
     "data": {
      "text/plain": [
       "['我经常被人pua，想起来都气，这个人还是我亲哥。',\n",
       " '例如我发照片去朋友圈，我亲哥会私信我说这么丑的照片你也发，你看看你脸大的像脸盆，腿又短又弯哪个男人看得上。然后我一生气就是说，这点玩笑都开不起，我说出你的缺点是为了你好啊，外面人夸你是表面奉承你啊。偏偏我又不会吵架，就一直解释的那种。',\n",
       " '还有很多很多这种，半夜想起来都气的睡不着。']"
      ]
     },
     "execution_count": 57,
     "metadata": {},
     "output_type": "execute_result"
    }
   ],
   "source": [
    "# get main post\n",
    "post_main = soup.find(\"div\", class_=\"rich-content topic-richtext\").find_all(\"p\")\n",
    "\n",
    "# transfer main post object into a list of strings\n",
    "post_main_text = []\n",
    "for i in range(len(post_main)):\n",
    "    post_main_text.append(post_main[i].text)\n",
    "    \n",
    "post_main_text"
   ]
  },
  {
   "cell_type": "code",
   "execution_count": 55,
   "id": "53dad212-0c50-4cb4-b0d3-959a188bfa97",
   "metadata": {},
   "outputs": [
    {
     "data": {
      "text/plain": [
       "['不能解释，不给他眼神就行了，越搭理越来劲。他质问你为什么不回复的时候就说“我还以为”。\\n遇到这样的直接屏蔽。\\n我上次去青海湖高高兴兴的发了朋友圈，我哥评论我“拍照水平还得提高啊”，气的我，直接把他屏蔽了，从此都清净了。\\n是个正常人都知道人出去玩晒照片是心情很好，还跑来浇冷水的，要么是打心眼里瞧不起你的人，要么是情商为负的人，给这两种人看朋友圈只有无尽的气受，还不如屏蔽了一了百了。',\n",
       " '这。。。',\n",
       " '去隔壁推辞学',\n",
       " '不能解释，不给他眼神就行了，越搭理越来劲。他质问你为什么不回复的时候就说“我还以为”。\\n遇到这样的直接屏蔽。\\n我上次去青海湖高高兴兴的发了朋友圈，我哥评论我“拍照水平还得提高啊”，气的我，直接把他屏蔽了，从此都清净了。\\n是个正常人都知道人出去玩晒照片是心情很好，还跑来浇冷水的，要么是打心眼里瞧不起你的人，要么是情商为负的人，给这两种人看朋友圈只有无尽的气受，还不如屏蔽了一了百了。',\n",
       " '“我没看到是你，看内容以为是哪个精神病院放出来的携带狂犬病的狗”',\n",
       " '谢谢你的回复，你是知道他在嘲讽你，我之前的问题是我不知道他在骂我，我哥特别能说的那种，死的都能说成活的',\n",
       " '唉，想办法远离和屏蔽，他一说话你就开启神游模式，尽量把影响降到最小吧。',\n",
       " '骂回去']"
      ]
     },
     "execution_count": 55,
     "metadata": {},
     "output_type": "execute_result"
    }
   ],
   "source": [
    "# get post reply\n",
    "post_reply = soup.find_all(\"p\",class_=\"reply-content\")\n",
    "\n",
    "# transfer post_reply object into a list of strings\n",
    "post_reply_text = []\n",
    "for i in range(len(post_reply)):\n",
    "    post_reply_text.append(post_reply[i].text)\n",
    "\n",
    "post_reply_text"
   ]
  },
  {
   "cell_type": "code",
   "execution_count": null,
   "id": "7726ed3c-fee9-4588-b624-0f35e1a6a895",
   "metadata": {},
   "outputs": [],
   "source": []
  }
 ],
 "metadata": {
  "kernelspec": {
   "display_name": "Python 3 (ipykernel)",
   "language": "python",
   "name": "python3"
  },
  "language_info": {
   "codemirror_mode": {
    "name": "ipython",
    "version": 3
   },
   "file_extension": ".py",
   "mimetype": "text/x-python",
   "name": "python",
   "nbconvert_exporter": "python",
   "pygments_lexer": "ipython3",
   "version": "3.8.12"
  }
 },
 "nbformat": 4,
 "nbformat_minor": 5
}
